{
 "cells": [
  {
   "cell_type": "markdown",
   "id": "6d48dde3",
   "metadata": {},
   "source": [
    "# Data Science Tools and EcoSystems"
   ]
  },
  {
   "cell_type": "markdown",
   "id": "00ff7cc5",
   "metadata": {},
   "source": [
    "In this notebook data science tools and ecosystems are summarised . "
   ]
  },
  {
   "cell_type": "markdown",
   "id": "598be69a",
   "metadata": {},
   "source": [
    "**Objectives:**"
   ]
  },
  {
   "cell_type": "markdown",
   "id": "dafa7df3",
   "metadata": {},
   "source": [
    "- Languages used in data science \n",
    "- Liberaries used by data scientists \n",
    "- Data science tools \n",
    "- some airthmatic operations in python"
   ]
  },
  {
   "cell_type": "markdown",
   "id": "2197a45c",
   "metadata": {},
   "source": [
    "Some of the popular languages that Data Scientists use are:"
   ]
  },
  {
   "cell_type": "markdown",
   "id": "80ae9dc6",
   "metadata": {},
   "source": [
    "1. Python\n",
    "2. R\n",
    "3. SQL\n",
    "4. Julia"
   ]
  },
  {
   "cell_type": "markdown",
   "id": "7c73f01e",
   "metadata": {},
   "source": [
    "Some of the commonly used libraries used by Data Scientists include:"
   ]
  },
  {
   "cell_type": "markdown",
   "id": "d54c2fe1",
   "metadata": {},
   "source": [
    "1. Pandas\n",
    "2. TensorFlow\n",
    "3. MatPlotLib\n",
    "4. NumPy"
   ]
  },
  {
   "cell_type": "markdown",
   "id": "c736bde6",
   "metadata": {},
   "source": [
    "|Data Science Tools|\n",
    "|------------------|\n",
    "|RStudio|\n",
    "|Apache Spark|\n",
    "|Apache Hadoop|"
   ]
  },
  {
   "cell_type": "markdown",
   "id": "8173148f",
   "metadata": {},
   "source": [
    "###  Below are a few examples of evaluating arithmetic expressions in Python."
   ]
  },
  {
   "cell_type": "code",
   "execution_count": 1,
   "id": "3ec869b5",
   "metadata": {},
   "outputs": [
    {
     "data": {
      "text/plain": [
       "17"
      ]
     },
     "execution_count": 1,
     "metadata": {},
     "output_type": "execute_result"
    }
   ],
   "source": [
    "# This a simple arithmetic expression to mutiply then add integers.\n",
    "(3*4)+5"
   ]
  },
  {
   "cell_type": "code",
   "execution_count": 3,
   "id": "b347adf8",
   "metadata": {},
   "outputs": [
    {
     "name": "stdout",
     "output_type": "stream",
     "text": [
      "200 minutes in hours is  3.3333333333333335\n"
     ]
    }
   ],
   "source": [
    "# This will convert 200 minutes to hours by diving by 60.\n",
    "print(\"200 minutes in hours is \",200/60)"
   ]
  },
  {
   "cell_type": "markdown",
   "id": "c7196b55",
   "metadata": {},
   "source": [
    "## Author\n",
    "Nandni Aggarwal"
   ]
  },
  {
   "cell_type": "code",
   "execution_count": null,
   "id": "b7651d38",
   "metadata": {},
   "outputs": [],
   "source": []
  }
 ],
 "metadata": {
  "kernelspec": {
   "display_name": "Python 3 (ipykernel)",
   "language": "python",
   "name": "python3"
  },
  "language_info": {
   "codemirror_mode": {
    "name": "ipython",
    "version": 3
   },
   "file_extension": ".py",
   "mimetype": "text/x-python",
   "name": "python",
   "nbconvert_exporter": "python",
   "pygments_lexer": "ipython3",
   "version": "3.11.4"
  }
 },
 "nbformat": 4,
 "nbformat_minor": 5
}
